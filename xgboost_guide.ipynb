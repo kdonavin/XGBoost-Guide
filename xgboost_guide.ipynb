{
 "cells": [
  {
   "cell_type": "markdown",
   "id": "7607bdb2-1707-4361-a984-1c443fe84370",
   "metadata": {},
   "source": [
    "# XGBoost\n",
    "\n",
    "A very popular implementation of gradient boosting that may be applied to supervised learning problems. XGBoost may be applied to classification or regression problems. \n",
    "\n",
    "*Some considerations*:\n",
    "\n",
    "- Features can be numeric or categorical\n",
    "- Numeric features should be scaled (e.g., Z-scored)\n",
    "- Categorical features must be encoded (i.e., one-hot)\n",
    "\n",
    "**Why is XGBoost so Popular?**\n",
    "\n",
    "- Speed and performance: Parallelizable able to harness multi-cores and GPUs\n",
    "- Consistently outperforms all other single-algorithm methods for supervised learning\n",
    "\n",
    "**When should XGBoost be used**\n",
    "\n",
    "- With large numbers of training samples (>1000 observations and less than 100 features), or in general when the number of observations is greater than the number of features\n",
    "- XGBoost is **not** good for image recognition or computer vision\n",
    "\n",
    "## Building an XGBoost DMatrix\n",
    "\n",
    "XGBoost gets some of it's processing efficiency from a specialized data object \"DMatrix\". Data must be typed as a `DMatrix` object in order to pass it to a native API `xgb.train()` method or likewise.\n",
    "\n",
    "XGBoost also has the ability to deal with categorical variables internally, rather than requiring the user to cast each as one-hot encoded values. But, these input categorical features need to be type `category` in Pandas."
   ]
  },
  {
   "cell_type": "code",
   "execution_count": 19,
   "id": "3498a453-e99a-417d-aff2-2dfeea1da4b6",
   "metadata": {
    "executionCancelledAt": null,
    "executionTime": 58,
    "lastExecutedAt": 1693983458447,
    "lastScheduledRunId": null,
    "lastSuccessfullyExecutedCode": "import numpy as np\nimport seaborn as sns\n\n# Example feature and target arrays\ndiamonds = sns.load_dataset(\"diamonds\")\nX, y = diamonds.drop('price', axis=1), diamonds[['price']]\n\n#Extract text features\ncats = X.select_dtypes(exclude=np.number).columns.tolist()\ncats"
   },
   "outputs": [
    {
     "data": {
      "text/plain": [
       "['cut', 'color', 'clarity']"
      ]
     },
     "execution_count": 19,
     "metadata": {},
     "output_type": "execute_result"
    }
   ],
   "source": [
    "import numpy as np\n",
    "import seaborn as sns\n",
    "\n",
    "# Example feature and target arrays\n",
    "diamonds = sns.load_dataset(\"diamonds\")\n",
    "X, y = diamonds.drop('price', axis=1), diamonds[['price']]\n",
    "\n",
    "#Extract text features\n",
    "cats = X.select_dtypes(exclude=np.number).columns.tolist()\n",
    "cats"
   ]
  },
  {
   "cell_type": "code",
   "execution_count": 20,
   "id": "2ae6c2b5-36c4-4d54-88e9-148218202112",
   "metadata": {
    "executionCancelledAt": null,
    "executionTime": 51,
    "lastExecutedAt": 1692855803356,
    "lastScheduledRunId": null,
    "lastSuccessfullyExecutedCode": "for col in cats: \n    X[col] = X[col].astype('category')\nX.dtypes #See category types"
   },
   "outputs": [
    {
     "data": {
      "text/plain": [
       "carat       float64\n",
       "cut        category\n",
       "color      category\n",
       "clarity    category\n",
       "depth       float64\n",
       "table       float64\n",
       "x           float64\n",
       "y           float64\n",
       "z           float64\n",
       "dtype: object"
      ]
     },
     "execution_count": 20,
     "metadata": {},
     "output_type": "execute_result"
    }
   ],
   "source": [
    "for col in cats: \n",
    "    X[col] = X[col].astype('category')\n",
    "X.dtypes #See category types"
   ]
  },
  {
   "cell_type": "markdown",
   "id": "637a70db-c338-40c1-b6cc-61efcc328ea5",
   "metadata": {},
   "source": [
    "`DMatrix` objects are built as the following:"
   ]
  },
  {
   "cell_type": "code",
   "execution_count": 21,
   "id": "de77f49f-4ff8-4ca8-a72f-cbba34c1c717",
   "metadata": {
    "executionCancelledAt": null,
    "executionTime": 54,
    "lastExecutedAt": 1692855936056,
    "lastScheduledRunId": null,
    "lastSuccessfullyExecutedCode": "from sklearn.model_selection import train_test_split\n\n#Train/Test split\nX, y = diamonds.drop('price', axis=1), diamonds[['price']]\nX_train, X_test, y_train, y_test = train_test_split(X, y, random_state=1973)\n\n#Build DMatrix\ndtrain_reg = xgb.DMatrix(X_train, y_train, enable_categorical=True)\ndtest_reg = xgb.DMatrix(X_test, y_test, enable_categorical=True)"
   },
   "outputs": [],
   "source": [
    "import xgboost as xgb\n",
    "from sklearn.model_selection import train_test_split\n",
    "\n",
    "#Train/Test split\n",
    "X, y = diamonds.drop('price', axis=1), diamonds[['price']]\n",
    "X_train, X_test, y_train, y_test = train_test_split(X, y, random_state=1973)\n",
    "\n",
    "#Build DMatrix\n",
    "dtrain_reg__diamonds = xgb.DMatrix(X_train, y_train, enable_categorical=True)\n",
    "dtest_reg__diamonds = xgb.DMatrix(X_test, y_test, enable_categorical=True)"
   ]
  },
  {
   "cell_type": "markdown",
   "id": "814604d3-16d2-4ab0-bdf9-7123ddbe2ebf",
   "metadata": {},
   "source": [
    "## Boosting & Base Learners\n",
    "\n",
    "_Boosting_ is not a specific machine learning algorithm but rather a concept that can be applied to a set of ML algorithms (i.e., a \"meta-algorithm\"). It is an ensemble meta-model (of which XGBoost is an example) that is used to convert many _weak learners_ into a strong learner. The resulting combination of learners allows _non-linear_ modeling of spaces that linear models may struggle to understand.\n",
    "\n",
    "- _Weak Learner_: An ML algorithm that is slightly better than chance (e.g., a binary decision tree whose predictions are slightly better than 50%)\n",
    "\n",
    "- _Boosting_: Iteratively builds a set of weak models on subsets of the data. Then, weights are applied to each weak learner based on its performance on unseen data. The boosting meta-algorithm aggregates those weighted predictions to obtain a prediction that is much stronger than the individual predictions.\n",
    "\n",
    "### Decision Trees\n",
    "\n",
    "Generally, the base learner of the XGBoost ensemble algorithm. Decision trees make a categorical choice given some data. They are composed of a series of binary decisions that ultimately yield a prediction at the tree's leaves. They are constructed iteratively, one split at a time based on an information criterea that is superior to all other splits. They are built until they run out of information or more-commonly until a stopping criterea is met (to reduce model variance).\n",
    "\n",
    "The resulting boosted mode is the weighted sum of decision trees. Notice that this leads to a non-linear combination of non-linear base-learners. This is an advantage of decision trees over linear boosters.\n",
    "\n",
    "### CARTs\n",
    "\n",
    "XGBoost uses a special type of decision tree called a _CART: Classification and Regression Tree_. In this tree, rather than leaves containing a boolean prediction, each leaf contains a real-valued score regardless of whether it will be used for classification or regression. A threshold is then used if classification is required.\n",
    "\n",
    "An example using the SciKit-learn API:"
   ]
  },
  {
   "cell_type": "code",
   "execution_count": 22,
   "id": "c8efeaf5-52f8-4abc-bfda-458e5533ca35",
   "metadata": {
    "executionCancelledAt": null,
    "executionTime": 342,
    "lastExecutedAt": 1696110549202,
    "lastScheduledRunId": null,
    "lastSuccessfullyExecutedCode": "import xgboost as xgb\nimport pandas as pd\nimport numpy as np\nfrom sklearn.model_selection import train_test_split\nfrom sklearn.metrics import mean_squared_error\n\n#Data\nhousing_df = pd.read_csv('datasets/ames_housing_trimmed_processed.csv') \nX, y = housing_df.loc[:, housing_df.columns != 'SalePrice'], housing_df.SalePrice\nX_train, X_test, y_train, y_test = train_test_split(X, y, test_size=0.2, random_state=1973)\n\n#Model \nxg_reg = xgb.XGBRegressor(\n    objective='reg:squarederror'\n    , booster='gbtree'\n    , n_estimators=100\n    , seed=1973)\nxg_reg.fit(X_train, y_train)\n\n#Results\npreds = xg_reg.predict(X_test)\nrmse = np.sqrt(mean_squared_error(y_test, preds))\nprint(\"RMSE: %f\" % (rmse))",
    "outputsMetadata": {
     "0": {
      "height": 37,
      "type": "stream"
     }
    }
   },
   "outputs": [
    {
     "name": "stdout",
     "output_type": "stream",
     "text": [
      "RMSE: 37915.634889\n"
     ]
    }
   ],
   "source": [
    "import xgboost as xgb\n",
    "import pandas as pd\n",
    "import numpy as np\n",
    "from sklearn.model_selection import train_test_split\n",
    "from sklearn.metrics import mean_squared_error\n",
    "\n",
    "#Data\n",
    "housing_df = pd.read_csv('DATA/ames_housing_trimmed_processed.csv') \n",
    "X, y = housing_df.loc[:, housing_df.columns != 'SalePrice'], housing_df.SalePrice\n",
    "X_train, X_test, y_train, y_test = train_test_split(X, y, test_size=0.2, random_state=1973)\n",
    "\n",
    "#Model \n",
    "xg_reg = xgb.XGBRegressor(\n",
    "    objective='reg:squarederror'\n",
    "    , booster='gbtree'\n",
    "    , n_estimators=100\n",
    "    , seed=1973)\n",
    "xg_reg.fit(X_train, y_train)\n",
    "\n",
    "#Results\n",
    "preds = xg_reg.predict(X_test)\n",
    "rmse = np.sqrt(mean_squared_error(y_test, preds))\n",
    "print(\"RMSE: %f\" % (rmse))"
   ]
  },
  {
   "cell_type": "markdown",
   "id": "f7715c4c-5cde-4a85-81e8-461f06255458",
   "metadata": {
    "executionCancelledAt": null,
    "executionTime": 49,
    "lastExecutedAt": 1691712413024,
    "lastScheduledRunId": null,
    "lastSuccessfullyExecutedCode": "### Linear Base Learners"
   },
   "source": [
    "### Linear Base Learners\n",
    "\n",
    "Linear base learners are a sum of linear coefficients. A resulting XGBoost'd model is a weighted sum of linear models, which is linear itself. Note that this ultimatel linearity may be a disadvantage for this booster type, and a reason that it is rarely used.\n",
    "\n",
    "Linear base learners are only available in the XGBoost learning API (i.e., not SKLearn) with the `\"gblinear\"` booster param (as opposed to the default `\"gbtree\"`).\n",
    "\n",
    "The following is an example using the XGBoost learning API:"
   ]
  },
  {
   "cell_type": "code",
   "execution_count": 23,
   "id": "1c01a718-ce6f-4ad2-b383-d069bee785fe",
   "metadata": {
    "executionCancelledAt": null,
    "executionTime": 320,
    "lastExecutedAt": 1692854512910,
    "lastScheduledRunId": null,
    "lastSuccessfullyExecutedCode": "import xgboost as xgb\nimport pandas as pd\nimport numpy as np\nfrom sklearn.model_selection import train_test_split\nfrom sklearn.metrics import mean_squared_error\n\n#Data\nhousing_df = pd.read_csv('datasets/ames_housing_trimmed_processed.csv') \nX, y = housing_df.loc[:, housing_df.columns != 'SalePrice'], housing_df.SalePrice\nX_train, X_test, y_train, y_test = train_test_split(X, y, test_size=0.2, random_state=1973)\nDM_train = xgb.DMatrix(data=X_train, label=y_train)\nDM_test = xgb.DMatrix(data=X_test, label=y_test)\n\n#Model\nparams={\n    \"booster\":\"gblinear\"\n    , \"objective\":\"reg:squarederror\"\n}\nxg_reg = xgb.train(params\n                   , dtrain=DM_train\n                   , num_boost_round=100)\n\n#Results\npreds = xg_reg.predict(DM_test)\nrmse = np.sqrt(mean_squared_error(y_test, preds))\nprint(\"RMSE: %f\" % (rmse))",
    "outputsMetadata": {
     "0": {
      "height": 37,
      "type": "stream"
     }
    }
   },
   "outputs": [
    {
     "name": "stdout",
     "output_type": "stream",
     "text": [
      "RMSE: 37915.634889\n"
     ]
    }
   ],
   "source": [
    "import xgboost as xgb\n",
    "import pandas as pd\n",
    "import numpy as np\n",
    "from sklearn.model_selection import train_test_split\n",
    "from sklearn.metrics import mean_squared_error\n",
    "\n",
    "#Data\n",
    "housing_df = pd.read_csv('DATA/ames_housing_trimmed_processed.csv') \n",
    "X, y = housing_df.loc[:, housing_df.columns != 'SalePrice'], housing_df.SalePrice\n",
    "X_train, X_test, y_train, y_test = train_test_split(X, y, test_size=0.2, random_state=1973)\n",
    "DM_train = xgb.DMatrix(data=X_train, label=y_train)\n",
    "# DM_test = xgb.DMatrix(data=X_test, label=y_test)\n",
    "\n",
    "#Model\n",
    "params={\n",
    "    \"booster\":\"gblinear\"\n",
    "    , \"objective\":\"reg:squarederror\"\n",
    "}\n",
    "xgb_reg = xgb.train(params\n",
    "                   , dtrain=DM_train\n",
    "                   , num_boost_round=100)\n",
    "\n",
    "#Results\n",
    "preds = xg_reg.predict(X_test) #Type error when passing the DMatrix version of test?\n",
    "rmse = np.sqrt(mean_squared_error(y_test, preds))\n",
    "print(\"RMSE: %f\" % (rmse))"
   ]
  },
  {
   "cell_type": "markdown",
   "id": "590453f7-de08-4575-9d2e-28a22abf24f7",
   "metadata": {},
   "source": [
    "## Objective Functions & Metrics\n",
    "\n",
    "Objective functions are A.K.A. _loss functions_. These functions quantify how far off a prediction is from the actual result. That is, they measure the difference between estimated and true values for a given collection of data. The goal in training an ML model is too _minimize_ this loss function across data passed through the model, especially unseen data at training time. The smaller this loss, the more _performant_ the model is said to be.\n",
    "\n",
    "The loss function is specified in a dictionary as the `'objective'` as follows:\n",
    "\n",
    "```python\n",
    "params = {\"objective\": \"reg:squarederror\", \"tree_method\": 'gpu_hist', ...}\n",
    "```\n",
    "\n",
    "Metrics are used _after_ training to evaluate overall performance (e.g., accuracy, recall, precision)."
   ]
  },
  {
   "cell_type": "markdown",
   "id": "1d0cb700-98c6-4655-89da-2e6f367f4069",
   "metadata": {},
   "source": []
  },
  {
   "cell_type": "code",
   "execution_count": 24,
   "id": "9829ad61-5481-4e27-8fa4-6d3db3ccbe9a",
   "metadata": {},
   "outputs": [],
   "source": [
    "from sklearn.preprocessing import OrdinalEncoder\n",
    "\n",
    "X, y = diamonds.drop(\"cut\", axis=1), diamonds[['cut']]"
   ]
  },
  {
   "cell_type": "markdown",
   "id": "280cfbaf-0177-448a-a100-6a9de06d0aa5",
   "metadata": {},
   "source": [
    "## Regression with XGBoost\n",
    "\n",
    "Regression machine learning problems predict real values rather than classes. Common performance metrics used in the regression context are Root Mean Squared Error (RMSE) and Mean Absolute Error (MAE). RMSE is diproportionately sensitive to large differences, while MAE lacks some nice mathematical properties that make it less used as a performance metric (like what?).\n",
    "\n",
    "The regression objective function commonly used is `reg:squarederror`\n",
    "\n",
    "## Cross-Validation in XGBoost\n",
    "\n",
    "Using a single test-set (i.e., the _validation set_) to validate the results of a machine learning model is problematic, as the model is able to implicitly memorize the test-set in its iterative optimization steps. This is because the hyperparameter optimization will optimize to the specific validation test-set, which may not generalize as well to new test-sets or future observations.\n",
    "\n",
    "Cross-validation generates many non-overlapping train/test splits. Then the _average_ test-set performance is reported across all splits.\n",
    "The following is an example of cross validation in XGBoost"
   ]
  },
  {
   "cell_type": "code",
   "execution_count": 25,
   "id": "7f26dd6a-20aa-4d19-8d3f-b8f64fba1821",
   "metadata": {
    "executionCancelledAt": null,
    "executionTime": 14426,
    "lastExecutedAt": 1691711861196,
    "lastScheduledRunId": null,
    "lastSuccessfullyExecutedCode": "import xgboost as xgb\nimport pandas as pd\n\nhousing_df = pd.read_csv('datasets/ames_housing_trimmed_processed.csv') \n#XGBoost gets some of it's processing efficiency from a specialized data object \"DMatrix\"\nhousing_dmat = xgb.DMatrix(data=housing_df.loc[:, housing_df.columns != 'SalePrice'], label=housing_df.SalePrice)\nparams={\"objective\":\"reg:squarederror\", \"max_depth\":4} #Defines the type of XGB model & hyperparams \ncv_results = xgb.cv(\n\tdtrain=housing_dmat\\\n    , params=params\\\n    , nfold=4\\\n\t, num_boost_round=1000\\\n\t, metrics=\"error\"\n\t, as_pandas=True\n)\n\n#Results\nprint(\"RMSE: %f\" %((cv_results['test-error-mean']).iloc[-1]))",
    "outputsMetadata": {
     "0": {
      "height": 37,
      "type": "stream"
     }
    }
   },
   "outputs": [
    {
     "name": "stdout",
     "output_type": "stream",
     "text": [
      "RMSE: -180920.195890\n"
     ]
    }
   ],
   "source": [
    "import xgboost as xgb\n",
    "import pandas as pd\n",
    "\n",
    "housing_df = pd.read_csv('DATA/ames_housing_trimmed_processed.csv') \n",
    "housing_dmat = xgb.DMatrix(data=housing_df.loc[:, housing_df.columns != 'SalePrice'], label=housing_df.SalePrice)\n",
    "params={\"objective\":\"reg:squarederror\", \"max_depth\":4} #Defines the type of XGB model & hyperparams \n",
    "cv_results = xgb.cv(\n",
    "\tdtrain=housing_dmat\\\n",
    "    , params=params\\\n",
    "    , nfold=4\\\n",
    "\t, num_boost_round=1000\\\n",
    "\t, metrics=\"error\"\n",
    "\t, as_pandas=True\n",
    ")\n",
    "\n",
    "#Results\n",
    "print(\"RMSE: %f\" %((cv_results['test-error-mean']).iloc[-1]))"
   ]
  },
  {
   "cell_type": "markdown",
   "id": "24831160-2889-434c-a63e-82024360e4bc",
   "metadata": {},
   "source": [
    "## Visualization in XGBoost\n",
    "\n",
    "XGBoost provides several ways to visualize the results of a trained model. Some common visualization techniques include:\n",
    "\n",
    "- Feature Importance Plot\n",
    "- Partial Dependence Plot\n",
    "- Tree Visualization\n",
    "\n",
    "Let's explore each of these visualization techniques in detail.\n",
    "\n",
    "### Tree Visualization\n",
    "\n",
    "Builds a tree graph for an arbitrary `num_trees` numbered booster. Visualizes the boolean splits and ultimate leaf values."
   ]
  },
  {
   "cell_type": "code",
   "execution_count": 26,
   "id": "d3b8c245-817b-4552-83ab-6474bb35a88b",
   "metadata": {
    "executionCancelledAt": null,
    "executionTime": 370,
    "lastExecutedAt": 1692774827972,
    "lastScheduledRunId": null,
    "lastSuccessfullyExecutedCode": "import matplotlib.pyplot as plt\n\nxgb.plot_tree(xg_reg, num_trees=0)\nplt.show()",
    "outputsMetadata": {
     "0": {
      "height": 37,
      "type": "stream"
     }
    }
   },
   "outputs": [],
   "source": [
    "import matplotlib.pyplot as plt\n",
    "\n",
    "# xgb.plot_tree(xg_reg, num_trees=0)\n",
    "# plt.show()"
   ]
  },
  {
   "cell_type": "markdown",
   "id": "8d715912-0d02-48ca-a3be-ea7b2295ad89",
   "metadata": {},
   "source": [
    "### Feature Importance Plot\n",
    "\n",
    "To visualize the feature importance of a trained model, we can use the `plot_importance` function from the XGBoost library. This function generates a bar plot showing the \"importance\" of each feature in the model, defined by the number of splits on that feature across _all_ the models boosters.\n",
    "\n",
    "Here is an example code snippet to plot the feature importance:"
   ]
  },
  {
   "cell_type": "code",
   "execution_count": 27,
   "id": "94f1eb7e-aa9b-462b-94c6-79bcf662fd70",
   "metadata": {
    "executionCancelledAt": null,
    "executionTime": 298,
    "lastExecutedAt": 1692854974324,
    "lastScheduledRunId": null,
    "lastSuccessfullyExecutedCode": "import xgboost as xgb\nimport matplotlib.pyplot as plt\n\n# Plot the feature importance\nxgb.plot_importance(xg_reg, max_num_features=20)\nplt.show()"
   },
   "outputs": [
    {
     "data": {
      "image/png": "[encoded data removed]",
      "text/plain": [
       "<Figure size 640x480 with 1 Axes>"
      ]
     },
     "metadata": {},
     "output_type": "display_data"
    }
   ],
   "source": [
    "import xgboost as xgb\n",
    "import matplotlib.pyplot as plt\n",
    "\n",
    "# Plot the feature importance\n",
    "xgb.plot_importance(xg_reg, max_num_features=20)\n",
    "plt.show()"
   ]
  },
  {
   "cell_type": "markdown",
   "id": "fdcd20d0-e38a-481f-8c23-cc233d61165d",
   "metadata": {},
   "source": [
    "## Tuning XGBoost Models\n",
    "\n",
    "Tuning can make a large difference in the final performance of an XGBoost model. \n",
    "\n",
    "### Early Stopping\n",
    "\n",
    "Each XGBoost model will eventually reach a number of boosters that continue to improve performace in the loss function on the _training_ data, it will no longer improve performance on _unseen_ data and will likely get worse as the model _overfits_. We can observe this by passing a test dataset to the `xgb.train()` method."
   ]
  },
  {
   "cell_type": "code",
   "execution_count": 28,
   "id": "bab7b68e-c169-4e94-9677-80016129b9d7",
   "metadata": {
    "collapsed": false,
    "executionCancelledAt": null,
    "executionTime": null,
    "jupyter": {
     "outputs_hidden": false,
     "source_hidden": false
    },
    "lastExecutedAt": null,
    "lastScheduledRunId": null,
    "lastSuccessfullyExecutedCode": null,
    "outputsMetadata": {
     "0": {
      "height": 427,
      "type": "stream"
     }
    }
   },
   "outputs": [
    {
     "name": "stdout",
     "output_type": "stream",
     "text": [
      "[0]\ttrain-rmse:2866.58414\tvalidation-rmse:2851.43272\n",
      "[50]\ttrain-rmse:432.91344\tvalidation-rmse:538.42428\n",
      "[100]\ttrain-rmse:374.78494\tvalidation-rmse:535.92513\n",
      "[150]\ttrain-rmse:333.49337\tvalidation-rmse:535.14539\n",
      "[200]\ttrain-rmse:302.78632\tvalidation-rmse:537.19565\n",
      "[250]\ttrain-rmse:279.03813\tvalidation-rmse:539.63158\n",
      "[300]\ttrain-rmse:256.96499\tvalidation-rmse:541.99057\n",
      "[350]\ttrain-rmse:240.29358\tvalidation-rmse:543.51596\n",
      "[400]\ttrain-rmse:226.56592\tvalidation-rmse:544.45180\n",
      "[450]\ttrain-rmse:215.81598\tvalidation-rmse:546.02738\n",
      "[500]\ttrain-rmse:202.70061\tvalidation-rmse:546.18920\n",
      "[550]\ttrain-rmse:189.60131\tvalidation-rmse:547.77322\n",
      "[600]\ttrain-rmse:178.29572\tvalidation-rmse:548.01904\n",
      "[650]\ttrain-rmse:171.64011\tvalidation-rmse:549.15544\n",
      "[700]\ttrain-rmse:163.74130\tvalidation-rmse:549.53713\n",
      "[750]\ttrain-rmse:154.81782\tvalidation-rmse:550.21355\n",
      "[800]\ttrain-rmse:147.74456\tvalidation-rmse:550.80717\n",
      "[850]\ttrain-rmse:141.72742\tvalidation-rmse:551.30109\n",
      "[900]\ttrain-rmse:135.40583\tvalidation-rmse:551.57032\n",
      "[950]\ttrain-rmse:130.93056\tvalidation-rmse:551.91517\n",
      "[999]\ttrain-rmse:125.44704\tvalidation-rmse:552.32574\n"
     ]
    }
   ],
   "source": [
    "from sklearn.model_selection import train_test_split\n",
    "import xgboost as xgb\n",
    "\n",
    "#Data\n",
    "X, y = diamonds.drop('price', axis=1), diamonds[['price']]\n",
    "X_train, X_test, y_train, y_test = train_test_split(X, y, random_state=1973)\n",
    "dtrain_reg__diamonds = xgb.DMatrix(X_train, y_train, enable_categorical=True)\n",
    "dtest_reg__diamonds = xgb.DMatrix(X_test, y_test, enable_categorical=True)\n",
    "\n",
    "#Training\n",
    "params = {\"objective\": \"reg:squarederror\", \"tree_method\": 'hist'}#\"gpu_hist\"}\n",
    "evals = [(dtrain_reg__diamonds, \"train\"), (dtest_reg__diamonds, \"validation\")]\n",
    "overfit_model = xgb.train(\n",
    "    params=params\n",
    "    , dtrain=dtrain_reg__diamonds\n",
    "    , num_boost_round=1000\n",
    "    , evals=evals\n",
    "    , verbose_eval=50\n",
    ")"
   ]
  },
  {
   "cell_type": "markdown",
   "id": "74ea25f3-b92b-4f27-aeb9-5187e76a0c68",
   "metadata": {},
   "source": [
    "XGBoost can tune the `num_boost_round` hyperparameter by testings each addition of a booster against a hold-out set of data and halting the addition of boosters if a given performance metric(s) does not improve on the hold-out set in `early_stopping_rounds` boosts. Got it? Check it:"
   ]
  },
  {
   "cell_type": "code",
   "execution_count": 29,
   "id": "129add73-987b-42cb-852d-9ecf5ba39429",
   "metadata": {
    "executionCancelledAt": null,
    "executionTime": null,
    "lastExecutedAt": null,
    "lastScheduledRunId": null,
    "lastSuccessfullyExecutedCode": null,
    "outputsMetadata": {
     "0": {
      "height": 76,
      "type": "stream"
     }
    }
   },
   "outputs": [
    {
     "name": "stdout",
     "output_type": "stream",
     "text": [
      "[0]\ttrain-rmse:2866.58414\tvalidation-rmse:2851.43272\n",
      "[50]\ttrain-rmse:432.91344\tvalidation-rmse:538.42428\n",
      "[58]\ttrain-rmse:423.44770\tvalidation-rmse:539.07536\n"
     ]
    }
   ],
   "source": [
    "early_stop_model = xgb.train(\n",
    "    params=params\n",
    "    , dtrain=dtrain_reg__diamonds\n",
    "    , num_boost_round=10000\n",
    "    , evals=evals\n",
    "    , verbose_eval=50\n",
    "    , early_stopping_rounds=10\n",
    ")"
   ]
  },
  {
   "cell_type": "markdown",
   "id": "3f6b2e9e-fa9a-4a0a-928c-a2c9f23a1a1e",
   "metadata": {},
   "source": [
    "The XGBoost model stopped itself at an early round as the performance in the validation set plateaued."
   ]
  },
  {
   "cell_type": "markdown",
   "id": "aa8bd2fb-7c5a-4e08-9078-ff7af032150e",
   "metadata": {
    "executionCancelledAt": null,
    "executionTime": 150,
    "lastExecutedAt": 1694219699104,
    "lastScheduledRunId": null,
    "lastSuccessfullyExecutedCode": "### Regularization with XGBoost\n\nRegularization techniques generally are methods that penalize model objective functions for added complexity of the model in pursuit of avoiding overfitting to the training data. \n\nIn XGBoost, regularization parameters are as follows:\n\n- `gamma`: The minimum loss requirement for a split to occur (alias `min_split_loss`)\n- `alpha`: L1 regularization on _leaf_ weights (not linear coefficients), with higher values leading to greater regularization. \n- `lambda`: L2 regularization on _leaf_ weights (not linear coefficients)\n\nAs with L1 vs. L2 regularization in linear regression coefficients, `alpha` will tend to eliminate weakly predictive splits entirely, compared to `lambda` which will tend to fade those splits instead."
   },
   "source": [
    "### Regularization with XGBoost\n",
    "\n",
    "Regularization techniques generally are methods that penalize model objective functions for added complexity of the model in pursuit of avoiding overfitting to the training data. \n",
    "\n",
    "In XGBoost, regularization parameters are as follows:\n",
    "\n",
    "- `gamma`: The minimum loss requirement for a split to occur (alias `min_split_loss`)\n",
    "- `alpha`: L1 regularization on _leaf_ weights (not linear coefficients), with higher values leading to greater regularization. \n",
    "- `lambda`: L2 regularization on _leaf_ weights (not linear coefficients)\n",
    "\n",
    "As with L1 vs. L2 regularization in linear regression coefficients, `alpha` will tend to eliminate weakly predictive splits entirely, compared to `lambda` which will tend to fade those splits instead."
   ]
  },
  {
   "cell_type": "code",
   "execution_count": 30,
   "id": "df73debe-13c5-4c28-9963-81cb22d28deb",
   "metadata": {
    "executionCancelledAt": null,
    "executionTime": 7041,
    "lastExecutedAt": 1692313844044,
    "lastScheduledRunId": null,
    "lastSuccessfullyExecutedCode": "# L1 Regularization Example\n\n##Imports\nimport xgboost as xgb\nimport pandas as pd\n\n##Data \nhousing_df = pd.read_csv('datasets/ames_housing_trimmed_processed.csv') \nhousing_dmat = xgb.DMatrix(data=housing_df.loc[:, housing_df.columns != 'SalePrice'], label=housing_df.SalePrice)\n\n##Model\nparams = {\"objective\":\"reg:squarederror\", \"max_depth\":4}\nl1_params = [1, 90, 100, 110, 1000]\nrmses_l1=[]\nfor reg in l1_params:\n    params[\"alpha\"] = reg\n    cv_results = xgb.cv(\n        dtrain=housing_dmat\n        , params=params\n        , nfold=4\n        , num_boost_round=100\n        # , verbose_eval=10\n        , metrics='rmse'\n        , as_pandas=True\n        , seed=1973\n    )\n    rmses_l1.append(cv_results[\"test-rmse-mean\"].tail(1).values[0])\n    \n#Results\nprint(\"Best RMSE as a function of L1\")\nprint(pd.DataFrame(list(zip(l1_params, rmses_l1)), columns=[\"L1\", \"RMSE\"]))",
    "outputsMetadata": {
     "0": {
      "height": 154,
      "type": "stream"
     }
    }
   },
   "outputs": [
    {
     "name": "stdout",
     "output_type": "stream",
     "text": [
      "Best RMSE as a function of L1\n",
      "     L1          RMSE\n",
      "0     1  31635.291779\n",
      "1    90  31529.302436\n",
      "2   100  31576.586445\n",
      "3   110  31510.959577\n",
      "4  1000  31366.626918\n"
     ]
    }
   ],
   "source": [
    "# L1 Regularization Example\n",
    "\n",
    "##Imports\n",
    "import xgboost as xgb\n",
    "import pandas as pd\n",
    "\n",
    "##Data \n",
    "housing_df = pd.read_csv('DATA/ames_housing_trimmed_processed.csv') \n",
    "housing_dmat = xgb.DMatrix(data=housing_df.loc[:, housing_df.columns != 'SalePrice'], label=housing_df.SalePrice)\n",
    "\n",
    "##Model\n",
    "params = {\"objective\":\"reg:squarederror\", \"max_depth\":4}\n",
    "l1_params = [1, 90, 100, 110, 1000]\n",
    "rmses_l1=[]\n",
    "for reg in l1_params:\n",
    "    params[\"alpha\"] = reg\n",
    "    cv_results = xgb.cv(\n",
    "        dtrain=housing_dmat\n",
    "        , params=params\n",
    "        , nfold=4\n",
    "        , num_boost_round=100\n",
    "        # , verbose_eval=10\n",
    "        , metrics='rmse'\n",
    "        , as_pandas=True\n",
    "        , seed=1973\n",
    "    )\n",
    "    rmses_l1.append(cv_results[\"test-rmse-mean\"].tail(1).values[0])\n",
    "    \n",
    "#Results\n",
    "print(\"Best RMSE as a function of L1\")\n",
    "print(pd.DataFrame(list(zip(l1_params, rmses_l1)), columns=[\"L1\", \"RMSE\"]))"
   ]
  },
  {
   "cell_type": "markdown",
   "id": "45c388c3-0983-44fe-aa41-5a68eb1ff5b9",
   "metadata": {},
   "source": [
    "### Further XGBoost Hyper Parameters\n",
    "\n",
    "- `learning_rate`/`eta`: The rate at which each additional booster learns the errors from the prior boosters. It applies a shrinkage factor to each boosters results and helps prevent overfitting. Default set at `0.3`\n",
    "- `max_depth`: Max number of parent-to-child levels in each tree booster. Default set at `6`\n",
    "- `subsample`: Percent of samples used per tree. High values will overfit while low values may underfit too.\n",
    "- `colsample_bytree`: Percent of features used per tree. AKA _bagging_. Can be thought of as additional regularization. Too high a proportion of columns sampled leads to overfitting. \n",
    "\n",
    "In the linear model the only tunable parameters are `lambda`, `alpha`, and `lambda_bias`, which is an L2 regularization term on the bias (wild!). And, of course, the number of boosting rounds is itself a tunable hyper parameter. "
   ]
  },
  {
   "cell_type": "markdown",
   "id": "047884ab-1956-4ac0-bf75-b60a72bee328",
   "metadata": {},
   "source": [
    "# Grid Search & Random Search in XGBoost\n",
    "\n",
    "_Grid search_ searches exhaustively over a given finite set of hyperparameters. A number of models, equal to the number of distinct sets of hyperparameters, are evaluated according to a given performance metric (e.g., RMSE, log-loss). A best-model is then selected based on that performance metric. An example with XGBoost and Sci-kit Learn:"
   ]
  },
  {
   "cell_type": "code",
   "execution_count": 31,
   "id": "cab99c7f-7fdb-498f-9e93-18db95487766",
   "metadata": {
    "executionCancelledAt": null,
    "executionTime": 27643,
    "lastExecutedAt": 1695339496153,
    "lastScheduledRunId": null,
    "lastSuccessfullyExecutedCode": "#Imports\nimport pandas as pd\nimport xgboost as xgb\nimport numpy as np\nfrom sklearn.model_selection import GridSearchCV\n\n#Data\nhousing_df = pd.read_csv('datasets/ames_housing_trimmed_processed.csv') \nX, y = housing_df[housing_df.columns.tolist()[:-1]], housing_df[housing_df.columns.tolist()[-1]]\n\n#Model\ngbm_param_grid = {'learning_rate': [0.01, 0.1, 0.5, 0.9]\n                    , 'n_estimators': [200]\n                    , 'subsample': [0.3, 0.5, 0.9]}\ngbm = xgb.XGBRegressor()\n\n#Grid Search\ngrid_mse = GridSearchCV(estimator=gbm\n                        , param_grid=gbm_param_grid\n                        , scoring='neg_mean_squared_error'\n                        , cv=4\n                        , verbose=1\n                       )\ngrid_mse.fit(X, y)\n\n#Results\nprint(\"Best parameters found: \", grid_mse.best_params_)\nprint(\"Lowest RMSE found: \", np.sqrt(np.abs(grid_mse.best_score_)))",
    "outputsMetadata": {
     "0": {
      "height": 76,
      "type": "stream"
     }
    }
   },
   "outputs": [
    {
     "name": "stdout",
     "output_type": "stream",
     "text": [
      "Fitting 4 folds for each of 12 candidates, totalling 48 fits\n",
      "Best parameters found:  {'learning_rate': 0.1, 'n_estimators': 200, 'subsample': 0.5}\n",
      "Lowest RMSE found:  28509.31498929468\n"
     ]
    }
   ],
   "source": [
    "#Imports\n",
    "import pandas as pd\n",
    "import xgboost as xgb\n",
    "import numpy as np\n",
    "from sklearn.model_selection import GridSearchCV\n",
    "\n",
    "#Data\n",
    "housing_df = pd.read_csv('DATA/ames_housing_trimmed_processed.csv') \n",
    "X, y = housing_df[housing_df.columns.tolist()[:-1]], housing_df[housing_df.columns.tolist()[-1]]\n",
    "\n",
    "#Model\n",
    "gbm_param_grid = {'learning_rate': [0.01, 0.1, 0.5, 0.9]\n",
    "                    , 'n_estimators': [200]\n",
    "                    , 'subsample': [0.3, 0.5, 0.9]}\n",
    "gbm = xgb.XGBRegressor()\n",
    "\n",
    "#Grid Search\n",
    "grid_mse = GridSearchCV(estimator=gbm\n",
    "                        , param_grid=gbm_param_grid\n",
    "                        , scoring='neg_mean_squared_error'\n",
    "                        , cv=4\n",
    "                        , verbose=1\n",
    "                       )\n",
    "grid_mse.fit(X, y)\n",
    "\n",
    "#Results\n",
    "print(\"Best parameters found: \", grid_mse.best_params_)\n",
    "print(\"Lowest RMSE found: \", np.sqrt(np.abs(grid_mse.best_score_)))"
   ]
  },
  {
   "cell_type": "markdown",
   "id": "660179be-8149-46cf-a048-fe9b9452733d",
   "metadata": {},
   "source": [
    "The drawback to grid search is that the length of search grows quickly with additional hyperparameters, and it is dependent on the user to select performant hyperparameter values along a real-number scale. An alternative to `GridSearch` is Sci-Kit Learn's `RandomizedSearchCV()`. This method of testing hyperparameter performance utilizes a random variable to search for hyperparameter values along a range of _real-numbered_ values. Although random search takes more time than grid search, it is superior for real-valued hyperparameters for which the optimal range is not well understood."
   ]
  },
  {
   "cell_type": "code",
   "execution_count": 32,
   "id": "77f0f87f-9303-48c3-8a5b-b82e850493f3",
   "metadata": {
    "executionCancelledAt": null,
    "executionTime": 78293,
    "lastExecutedAt": 1695339702149,
    "lastScheduledRunId": null,
    "lastSuccessfullyExecutedCode": "# ... Continuing with data from above ...\nfrom sklearn.model_selection import RandomizedSearchCV\n\n#model\ngbm_param_grid__random = {'learning_rate': np.arange(0.01, 1.01, 0.01)\n                            , 'n_estimators': np.arange(50, 500, 50)\n                            , 'subsample': np.arange(0.05, 1.05, 0.05)}\nrandomized_mse = RandomizedSearchCV(\n    estimator=gbm\n    , param_distributions=gbm_param_grid__random\n    , n_iter=25\n    , scoring='neg_mean_squared_error'\n    , cv=4\n    , verbose=1\n)\nrandomized_mse.fit(X, y)\nprint(\"Best parameters found: \", randomized_mse.best_params_)\nprint(\"Lowest RMSE found: \", np.sqrt(np.abs(randomized_mse.best_score_)))",
    "outputsMetadata": {
     "0": {
      "height": 76,
      "type": "stream"
     }
    }
   },
   "outputs": [
    {
     "name": "stdout",
     "output_type": "stream",
     "text": [
      "Fitting 4 folds for each of 25 candidates, totalling 100 fits\n",
      "Best parameters found:  {'subsample': np.float64(0.35000000000000003), 'n_estimators': np.int64(150), 'learning_rate': np.float64(0.17)}\n",
      "Lowest RMSE found:  30361.027935363\n"
     ]
    }
   ],
   "source": [
    "# ... Continuing with data from above ...\n",
    "from sklearn.model_selection import RandomizedSearchCV\n",
    "\n",
    "#model\n",
    "gbm_param_grid__random = {'learning_rate': np.arange(0.01, 1.01, 0.01)\n",
    "                            , 'n_estimators': np.arange(50, 500, 50)\n",
    "                            , 'subsample': np.arange(0.05, 1.05, 0.05)}\n",
    "randomized_mse = RandomizedSearchCV(\n",
    "    estimator=gbm\n",
    "    , param_distributions=gbm_param_grid__random\n",
    "    , n_iter=25\n",
    "    , scoring='neg_mean_squared_error'\n",
    "    , cv=4\n",
    "    , verbose=1\n",
    ")\n",
    "randomized_mse.fit(X, y)\n",
    "print(\"Best parameters found: \", randomized_mse.best_params_)\n",
    "print(\"Lowest RMSE found: \", np.sqrt(np.abs(randomized_mse.best_score_)))"
   ]
  },
  {
   "cell_type": "markdown",
   "id": "29e6099e-6fc2-41e5-bf14-dd39814ffc8c",
   "metadata": {},
   "source": [
    "Random search does not necessarily simplify the search-time problem and may exacerbate it with increasing number of interations (`n_iter`). However, with enough time and iterations random search is able to lccate performant real-valued hyperparameters.\n",
    "\n",
    "# Using XGBoost in Pipelines\n",
    "\n",
    "`Pipeline()` is a SciKit Learn object that takes a list of named 2-tuples (i.e., `('name', StepObject())`). These tuples may be any scikit-learn compatible transformer, or estimator object (must be the final object), specifically objects that implement the `.fit()()`/`.predict()` methods. Then the `Pipeline()` object itself may be used as an \"estimator\" in the SciKit Learn grid/randomized search or cross validation methods."
   ]
  },
  {
   "cell_type": "code",
   "execution_count": 35,
   "id": "480208b2-4e97-4640-81c2-06af89bdbe26",
   "metadata": {
    "executionCancelledAt": null,
    "executionTime": 4436,
    "lastExecutedAt": 1696116891350,
    "lastScheduledRunId": null,
    "lastSuccessfullyExecutedCode": "#Libraries\nimport pandas as pd \nfrom sklearn.ensemble import RandomForestClassifier #? That's not XGBoost...\nimport numpy as np\nfrom sklearn.preprocessing import StandardScaler\nfrom sklearn.feature_extraction import DictVectorizer\nfrom sklearn.pipeline import Pipeline\nfrom sklearn.model_selection import cross_val_score\nimport xgboost as xgb\n\n#Data\nhousing_df = pd.read_csv('datasets/ames_unprocessed_data.csv') \nX, y = housing_df[housing_df.columns.tolist()[:-1]], housing_df[housing_df.columns.tolist()[-1]]\nX.LotFrontage = X.LotFrontage.fillna(0) #Some missing data\n\n#Model Pipeline\nxgb_reg = xgb.XGBRegressor(objective='reg:squarederror', n_estimators=100, seed=1973)\nsteps = [(\"ohe_onestep\", DictVectorizer(sparse=False)) #Vectorizes non-numeric data only\n          , ('st_scalar', StandardScaler())\n          , ('xgb_reg', xgb_reg)]\nxgb_pipeline = Pipeline(steps)\n\n#Results\nscores = cross_val_score(\n    xgb_pipeline\n    , X.to_dict(\"records\") #Required for DictVectorizer\n    , y\n    , scoring='neg_mean_squared_error' #PS - an API-safe convention: make scores negative?\n    , cv=10\n)\navg_rmse = np.mean(np.sqrt(np.abs(scores)))\nprint('Final RMSE:', avg_rmse)",
    "outputsMetadata": {
     "0": {
      "height": 37,
      "type": "stream"
     }
    }
   },
   "outputs": [
    {
     "name": "stdout",
     "output_type": "stream",
     "text": [
      "Final RMSE: 30201.10570677011\n"
     ]
    }
   ],
   "source": [
    "#Libraries\n",
    "import pandas as pd \n",
    "from sklearn.ensemble import RandomForestClassifier #? That's not XGBoost...\n",
    "import numpy as np\n",
    "from sklearn.preprocessing import StandardScaler\n",
    "from sklearn.feature_extraction import DictVectorizer\n",
    "from sklearn.pipeline import Pipeline\n",
    "from sklearn.model_selection import cross_val_score\n",
    "import xgboost as xgb\n",
    "\n",
    "#Data\n",
    "housing_df = pd.read_csv('DATA/ames_unprocessed_data.csv') \n",
    "X, y = housing_df[housing_df.columns.tolist()[:-1]], housing_df[housing_df.columns.tolist()[-1]]\n",
    "X.loc[:, 'LotFrontage'] = X.LotFrontage.fillna(0) #Some missing data\n",
    "\n",
    "#Model Pipeline\n",
    "xgb_reg = xgb.XGBRegressor(objective='reg:squarederror', n_estimators=100, seed=1973)\n",
    "steps = [(\"ohe_onestep\", DictVectorizer(sparse=False)) #Vectorizes non-numeric data only\n",
    "          , ('st_scalar', StandardScaler())\n",
    "          , ('xgb_reg', xgb_reg)]\n",
    "xgb_pipeline = Pipeline(steps)\n",
    "\n",
    "#Results\n",
    "scores = cross_val_score(\n",
    "    xgb_pipeline\n",
    "    , X.to_dict(\"records\") #Required for DictVectorizer\n",
    "    , y\n",
    "    , scoring='neg_mean_squared_error' #PS - an API-safe convention: make scores negative?\n",
    "    , cv=10\n",
    ")\n",
    "avg_rmse = np.mean(np.sqrt(np.abs(scores)))\n",
    "print('Final RMSE:', avg_rmse)"
   ]
  },
  {
   "cell_type": "markdown",
   "id": "89975889-6388-433f-9455-1adc0823e01f",
   "metadata": {},
   "source": [
    "# Acknowledgements\n",
    "\n",
    "These notes were created for studying an XGBoost tutorial from Datacamp, as well as an additional course from Datacamp.\n",
    "\n",
    "\n",
    "- Using XGBoost in Python Tutorial: https://www.datacamp.com/tutorial/xgboost-in-python\n",
    "Extreme Gradient Boosting with XGBoost: https://app.datacamp.com/learn/courses/extreme-gradient-boosting-with-xgboost "
   ]
  }
 ],
 "metadata": {
  "editor": "DataCamp Workspace",
  "kernelspec": {
   "display_name": "Python 3 (ipykernel)",
   "language": "python",
   "name": "python3"
  },
  "language_info": {
   "codemirror_mode": {
    "name": "ipython",
    "version": 3
   },
   "file_extension": ".py",
   "mimetype": "text/x-python",
   "name": "python",
   "nbconvert_exporter": "python",
   "pygments_lexer": "ipython3",
   "version": "3.11.8"
  }
 },
 "nbformat": 4,
 "nbformat_minor": 5
}
